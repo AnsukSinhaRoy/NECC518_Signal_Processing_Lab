{
 "cells": [
  {
   "cell_type": "code",
   "execution_count": 1,
   "metadata": {},
   "outputs": [
    {
     "name": "stdout",
     "output_type": "stream",
     "text": [
      "Input sequence: [1, 2, 3, 1, 2, 1, 0, 0]\n",
      "FFT output:\n",
      "X[0] = 10.0000\n",
      "X[1] = -1.0000-4.4142j\n",
      "X[2] = 0.0000-2.0000j\n",
      "X[3] = -1.0000+1.5858j\n",
      "X[4] = 2.0000\n",
      "X[5] = -1.0000-1.5858j\n",
      "X[6] = 0.0000+2.0000j\n",
      "X[7] = -1.0000+4.4142j\n"
     ]
    }
   ],
   "source": [
    "import math\n",
    "import cmath\n",
    "\n",
    "# Input sequence\n",
    "x = [1, 2, 3, 1, 2, 1, 0, 0]\n",
    "\n",
    "# Bit reversal function\n",
    "def bit_reverse_traverse(a):\n",
    "    n = len(a)\n",
    "    bits = int(math.log2(n))\n",
    "    result = [0] * n\n",
    "    for k in range(n):\n",
    "        rev_k = int('{:0{width}b}'.format(k, width=bits)[::-1], 2)\n",
    "        result[rev_k] = a[k]\n",
    "    return result\n",
    "\n",
    "# FFT implementation (Radix-2 DIT-FFT)\n",
    "def fft(x):\n",
    "    N = len(x)\n",
    "    X = bit_reverse_traverse(x.copy())\n",
    "    stages = int(math.log2(N))\n",
    "\n",
    "    for s in range(1, stages + 1):\n",
    "        m = 2 ** s\n",
    "        wm = cmath.exp(-2j * math.pi / m)\n",
    "        for k in range(0, N, m):\n",
    "            w = 1\n",
    "            for j in range(m // 2):\n",
    "                t = w * X[k + j + m // 2]\n",
    "                u = X[k + j]\n",
    "                X[k + j] = u + t\n",
    "                X[k + j + m // 2] = u - t\n",
    "                w *= wm\n",
    "    return X\n",
    "\n",
    "# Perform FFT\n",
    "X = fft(x)\n",
    "\n",
    "# Display the result\n",
    "print(\"Input sequence:\", x)\n",
    "print(\"FFT output:\")\n",
    "for k, val in enumerate(X):\n",
    "    print(f\"X[{k}] = {val:.4f}\")\n"
   ]
  }
 ],
 "metadata": {
  "kernelspec": {
   "display_name": "Python 3",
   "language": "python",
   "name": "python3"
  },
  "language_info": {
   "codemirror_mode": {
    "name": "ipython",
    "version": 3
   },
   "file_extension": ".py",
   "mimetype": "text/x-python",
   "name": "python",
   "nbconvert_exporter": "python",
   "pygments_lexer": "ipython3",
   "version": "3.12.8"
  }
 },
 "nbformat": 4,
 "nbformat_minor": 2
}
